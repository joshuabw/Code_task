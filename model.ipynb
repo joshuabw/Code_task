{
 "cells": [
  {
   "cell_type": "code",
   "execution_count": 1,
   "id": "e34fd3f8",
   "metadata": {},
   "outputs": [],
   "source": [
    "import pandas as pd\n",
    "import numpy as np\n",
    "from numpy import asarray\n",
    "import tensorflow as tf\n",
    "from pathlib import Path\n",
    "from tensorflow.keras import layers\n",
    "\n",
    "from tensorflow.keras.preprocessing import image\n",
    "from tensorflow.keras.applications.resnet50 import preprocess_input, decode_predictions\n",
    "from tensorflow.keras.models import Sequential, model_from_json\n",
    "from keras.layers import Dense, Input\n",
    "from keras.models import Model\n",
    "import matplotlib.pyplot as plt\n",
    "import cv2\n",
    "from sklearn.model_selection import train_test_split\n",
    "from mlxtend.plotting import plot_confusion_matrix\n",
    "from sklearn.metrics import confusion_matrix"
   ]
  },
  {
   "cell_type": "code",
   "execution_count": 2,
   "id": "39e65f5c",
   "metadata": {},
   "outputs": [],
   "source": [
    "#file path retrieve\n",
    "data_dir = Path('/Users/joshua/chest_xray/')"
   ]
  },
  {
   "cell_type": "code",
   "execution_count": 3,
   "id": "e0db079e",
   "metadata": {},
   "outputs": [],
   "source": [
    "n_train = data_dir.glob('train/NORMAL/*.jpeg')\n",
    "p_train = data_dir.glob('train/PNEUMONIA/*.jpeg')\n",
    "n_test = data_dir.glob('test/NORMAL/*.jpeg')\n",
    "p_test = data_dir.glob('test/PNEUMONIA/*.jpeg')"
   ]
  },
  {
   "cell_type": "code",
   "execution_count": 4,
   "id": "21b071b5",
   "metadata": {},
   "outputs": [],
   "source": [
    "def data_to_df(norm,pneu):\n",
    "    data = []\n",
    "    for img in norm:\n",
    "        data.append((str(img),0))\n",
    "    for img in pneu:\n",
    "        data.append((str(img),1))\n",
    "    data = pd.DataFrame(data, columns=['filepath', 'label'],index=None)\n",
    "    # shuffle data\n",
    "    data = data.sample(frac=1.).reset_index(drop=True)\n",
    "    return data"
   ]
  },
  {
   "cell_type": "code",
   "execution_count": 5,
   "id": "1664a3ca",
   "metadata": {},
   "outputs": [],
   "source": [
    "train_data = data_to_df(n_train,p_train)\n",
    "test_data = data_to_df(n_test,p_test)"
   ]
  },
  {
   "cell_type": "code",
   "execution_count": 6,
   "id": "8d796878",
   "metadata": {},
   "outputs": [],
   "source": [
    "def case_count(data):\n",
    "    data['label'].value_counts()"
   ]
  },
  {
   "cell_type": "code",
   "execution_count": 7,
   "id": "108f60ea",
   "metadata": {},
   "outputs": [],
   "source": [
    "case_count(train_data)\n",
    "#pneumonia    3875\n",
    "#normal    1341"
   ]
  },
  {
   "cell_type": "markdown",
   "id": "fdf05557",
   "metadata": {},
   "source": [
    "Inbalanced train_data: \n",
    "\n",
    "normal count: 1341\n",
    "\n",
    "pneumonia count: 3875"
   ]
  },
  {
   "cell_type": "code",
   "execution_count": 8,
   "id": "72d56c58",
   "metadata": {},
   "outputs": [],
   "source": [
    "#make a dataframe of normal images for data augmentation\n",
    "norm_train = train_data[train_data['label']==0]\n",
    "norm_train.reset_index(drop=True, inplace=True)"
   ]
  },
  {
   "cell_type": "code",
   "execution_count": 9,
   "id": "7c43ecb0",
   "metadata": {},
   "outputs": [],
   "source": [
    "#set the image size to 160\n",
    "image_size = 160"
   ]
  },
  {
   "cell_type": "code",
   "execution_count": 10,
   "id": "94538719",
   "metadata": {},
   "outputs": [],
   "source": [
    "#double the normal count by flip the image left and right/up and down\n",
    "def data_augmentation(dataset):\n",
    "    data = []\n",
    "    for i in range(len(dataset)):\n",
    "        image = cv2.imread(dataset['filepath'][i])\n",
    "        image_1 = tf.image.flip_left_right(image)\n",
    "        image_2 = tf.image.flip_up_down(image)\n",
    "        image_1 = asarray(image_1)\n",
    "        image_2 = asarray(image_2)\n",
    "        image_1 = cv2.resize(image_1, (image_size, image_size))\n",
    "        image_1 = np.dstack([image_1, image_1, image_1])\n",
    "        image_2 = cv2.resize(image_2, (image_size, image_size))\n",
    "        image_2 = np.dstack([image_2, image_2, image_2])\n",
    "        data.append([image_1, 0])\n",
    "        data.append([image_2, 0])\n",
    "    return data"
   ]
  },
  {
   "cell_type": "code",
   "execution_count": 11,
   "id": "96db35ae",
   "metadata": {},
   "outputs": [
    {
     "name": "stderr",
     "output_type": "stream",
     "text": [
      "2022-07-17 22:51:46.094244: I tensorflow/core/platform/cpu_feature_guard.cc:193] This TensorFlow binary is optimized with oneAPI Deep Neural Network Library (oneDNN) to use the following CPU instructions in performance-critical operations:  AVX2 FMA\n",
      "To enable them in other operations, rebuild TensorFlow with the appropriate compiler flags.\n"
     ]
    }
   ],
   "source": [
    "data_aug = data_augmentation(norm_train)"
   ]
  },
  {
   "cell_type": "code",
   "execution_count": 12,
   "id": "cb6fb50f",
   "metadata": {},
   "outputs": [],
   "source": [
    "#data preprocessing\n",
    "def data_preprocess(dataset):\n",
    "    data = []\n",
    "    for i in range(len(dataset)):\n",
    "        image = cv2.imread(dataset['filepath'][i])\n",
    "        image = cv2.resize(image, (image_size, image_size))\n",
    "        image = np.dstack([image, image, image])\n",
    "        data.append([image, dataset['label'][i]])\n",
    "    return data\n"
   ]
  },
  {
   "cell_type": "code",
   "execution_count": 13,
   "id": "4f69d094",
   "metadata": {},
   "outputs": [],
   "source": [
    "train = data_preprocess(train_data)"
   ]
  },
  {
   "cell_type": "code",
   "execution_count": 14,
   "id": "86ad6569",
   "metadata": {},
   "outputs": [],
   "source": [
    "#add augmented normal images to training dataset\n",
    "train = train + data_aug"
   ]
  },
  {
   "cell_type": "code",
   "execution_count": 15,
   "id": "0e31bf8c",
   "metadata": {},
   "outputs": [],
   "source": [
    "#Separating the images and labels\n",
    "def separate(dataset):\n",
    "    img = []\n",
    "    label = []\n",
    "    for i in dataset:\n",
    "        img.append(i[0])\n",
    "        label.append(i[1])\n",
    "    img = np.array(img)\n",
    "    label = np.array(label)\n",
    "    #dataset[0] for image, dataset[1] for labels\n",
    "    return img,label "
   ]
  },
  {
   "cell_type": "code",
   "execution_count": 16,
   "id": "794489d1",
   "metadata": {},
   "outputs": [],
   "source": [
    "training = separate(train)"
   ]
  },
  {
   "cell_type": "code",
   "execution_count": 17,
   "id": "5c3b05e8",
   "metadata": {},
   "outputs": [],
   "source": [
    "#make model for prediction\n",
    "model = tf.keras.models.Sequential([\n",
    "    tf.keras.layers.Conv2D(filters=32, kernel_size=(3, 3), activation='relu', input_shape=(image_size, image_size, 9)),\n",
    "    tf.keras.layers.MaxPooling2D((2, 2)),\n",
    "\n",
    "    tf.keras.layers.Conv2D(filters=64, kernel_size=(3, 3), activation='relu'),\n",
    "    tf.keras.layers.MaxPooling2D((2, 2)),\n",
    "\n",
    "    tf.keras.layers.Conv2D(filters=64, kernel_size=(3, 3), activation='relu'),\n",
    "    tf.keras.layers.MaxPooling2D((2, 2)),\n",
    "\n",
    "    tf.keras.layers.Conv2D(filters=128, kernel_size=(3, 3), activation='relu'),\n",
    "    tf.keras.layers.MaxPooling2D((2, 2)),\n",
    "\n",
    "    tf.keras.layers.Conv2D(filters=256, kernel_size=(3, 3), activation='relu'),\n",
    "    tf.keras.layers.MaxPooling2D((2, 2)),\n",
    "\n",
    "    tf.keras.layers.Flatten(),\n",
    "    tf.keras.layers.Dense(128, activation='relu'),\n",
    "    tf.keras.layers.Dense(9, activation='sigmoid')\n",
    "])"
   ]
  },
  {
   "cell_type": "code",
   "execution_count": 18,
   "id": "10486102",
   "metadata": {},
   "outputs": [],
   "source": [
    "model.compile(loss='sparse_categorical_crossentropy', optimizer='adam', metrics='accuracy')"
   ]
  },
  {
   "cell_type": "code",
   "execution_count": 28,
   "id": "e8c56e35",
   "metadata": {},
   "outputs": [
    {
     "name": "stdout",
     "output_type": "stream",
     "text": [
      "Epoch 1/10\n",
      "79/79 [==============================] - 123s 2s/step - loss: 0.0196 - accuracy: 0.9924\n",
      "Epoch 2/10\n",
      "79/79 [==============================] - 122s 2s/step - loss: 0.0119 - accuracy: 0.9958\n",
      "Epoch 3/10\n",
      "79/79 [==============================] - 123s 2s/step - loss: 0.0079 - accuracy: 0.9976\n",
      "Epoch 4/10\n",
      "79/79 [==============================] - 122s 2s/step - loss: 0.0056 - accuracy: 0.9986\n",
      "Epoch 5/10\n",
      "79/79 [==============================] - 141s 2s/step - loss: 0.0034 - accuracy: 0.9994\n",
      "Epoch 6/10\n",
      "79/79 [==============================] - 142s 2s/step - loss: 0.0025 - accuracy: 0.9995\n",
      "Epoch 7/10\n",
      "79/79 [==============================] - 140s 2s/step - loss: 0.0014 - accuracy: 0.9997\n",
      "Epoch 8/10\n",
      "79/79 [==============================] - 141s 2s/step - loss: 8.6260e-04 - accuracy: 1.0000\n",
      "Epoch 9/10\n",
      "79/79 [==============================] - 140s 2s/step - loss: 5.7778e-04 - accuracy: 1.0000\n",
      "Epoch 10/10\n",
      "79/79 [==============================] - 142s 2s/step - loss: 4.2176e-04 - accuracy: 1.0000\n"
     ]
    },
    {
     "data": {
      "text/plain": [
       "<keras.callbacks.History at 0x13fde7be0>"
      ]
     },
     "execution_count": 28,
     "metadata": {},
     "output_type": "execute_result"
    }
   ],
   "source": [
    "#dataset[0] for image, dataset[1] for labels\n",
    "model.fit(training[0], training[1], epochs=10, batch_size=100)"
   ]
  },
  {
   "cell_type": "code",
   "execution_count": 29,
   "id": "a430c41d",
   "metadata": {},
   "outputs": [
    {
     "name": "stdout",
     "output_type": "stream",
     "text": [
      "20/20 [==============================] - 3s 128ms/step - loss: 2.8791 - accuracy: 0.7628\n",
      "20/20 [==============================] - 3s 125ms/step\n"
     ]
    }
   ],
   "source": [
    "#test data preprocessing\n",
    "test = data_preprocess(test_data)\n",
    "testing = separate(test)\n",
    "#dataset[0] for image, dataset[1] for labels\n",
    "model.evaluate(testing[0], testing[1])\n",
    "preds = model.predict(testing[0], batch_size=32)\n",
    "preds = np.argmax(preds, axis=-1)"
   ]
  },
  {
   "cell_type": "code",
   "execution_count": 30,
   "id": "8bf62a3f",
   "metadata": {},
   "outputs": [
    {
     "data": {
      "image/png": "[encoded data removed]",
      "text/plain": [
       "<Figure size 1080x576 with 1 Axes>"
      ]
     },
     "metadata": {
      "needs_background": "light"
     },
     "output_type": "display_data"
    }
   ],
   "source": [
    "#configure confusion matrix for test data\n",
    "cm  = confusion_matrix(testing[1], preds)\n",
    "plot_confusion_matrix(cm,figsize=(15,8), hide_ticks=True,cmap=plt.cm.YlOrRd)\n",
    "plt.xticks(range(2), ['Normal', 'Pneumonia'], fontsize=15)\n",
    "plt.yticks(range(2), ['Normal', 'Pneumonia'], fontsize=15)\n",
    "plt.show()"
   ]
  },
  {
   "cell_type": "markdown",
   "id": "24590bd8",
   "metadata": {},
   "source": [
    "The test results show that the model predict 143 'normal' images wrongly to the pneumonia category (False positive). However only 3 images are wrongly categorized to normal when it's 'pneumonia'. \"its better to be healthy and falsely checked as pneumonia than having pneumonia and categorized as 'normal\""
   ]
  },
  {
   "cell_type": "code",
   "execution_count": 32,
   "id": "d1b23d35",
   "metadata": {},
   "outputs": [
    {
     "name": "stdout",
     "output_type": "stream",
     "text": [
      "Accuracy 76.60 %\n",
      "Precision 0.73\n",
      "Recall 0.99\n"
     ]
    }
   ],
   "source": [
    "tn, fp, fn, tp = cm.ravel()\n",
    "#Accuracy\n",
    "Accuracy = (tn+tp)*100/(tp+tn+fp+fn)\n",
    "print(\"Accuracy {:0.2f} %\".format(Accuracy))\n",
    "\n",
    "#Precision\n",
    "Precision = tp/(tp+fp)\n",
    "print(\"Precision {:0.2f}\".format(Precision))\n",
    "\n",
    "#Recall \n",
    "Recall = tp/(tp+fn) \n",
    "print(\"Recall {:0.2f}\".format(Recall))"
   ]
  },
  {
   "cell_type": "markdown",
   "id": "1d528c24",
   "metadata": {},
   "source": [
    "Low testing accuracy possible cause: The training data is inbalanced with more 'pneumonia' image than 'normal', even though the data are augmented."
   ]
  },
  {
   "cell_type": "code",
   "execution_count": 34,
   "id": "a4a9aed9",
   "metadata": {},
   "outputs": [
    {
     "name": "stdout",
     "output_type": "stream",
     "text": [
      "Saved model to disk\n"
     ]
    }
   ],
   "source": [
    "#save model to json file for api to retrieve\n",
    "model_json = model.to_json()\n",
    "with open(\"model.json\", \"w\") as json_file:\n",
    "    json_file.write(model_json)\n",
    "# serialize weights to HDF5\n",
    "model.save_weights(\"model.h5\")\n",
    "print(\"Saved model to disk\")"
   ]
  }
 ],
 "metadata": {
  "kernelspec": {
   "display_name": "Python 3 (ipykernel)",
   "language": "python",
   "name": "python3"
  },
  "language_info": {
   "codemirror_mode": {
    "name": "ipython",
    "version": 3
   },
   "file_extension": ".py",
   "mimetype": "text/x-python",
   "name": "python",
   "nbconvert_exporter": "python",
   "pygments_lexer": "ipython3",
   "version": "3.8.2"
  },
  "vscode": {
   "interpreter": {
    "hash": "31f2aee4e71d21fbe5cf8b01ff0e069b9275f58929596ceb00d14d90e3e16cd6"
   }
  }
 },
 "nbformat": 4,
 "nbformat_minor": 5
}
